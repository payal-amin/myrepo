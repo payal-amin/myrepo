{
 "cells": [
  {
   "cell_type": "markdown",
   "metadata": {},
   "source": [
    "# Project 3\n",
    "\n",
    "## Study of US States' Arrest Rates through Rent, Income, & Urban Population Using Python\n",
    "\n",
    "\n",
    "\n",
    "## SDS348 Spring 2021"
   ]
  },
  {
   "cell_type": "markdown",
   "metadata": {},
   "source": [
    "### Payal Amin (pja648)"
   ]
  },
  {
   "cell_type": "code",
   "execution_count": 1,
   "metadata": {},
   "outputs": [],
   "source": [
    "# Running for multiple outputs from a single chunk\n",
    "from IPython.core.interactiveshell import InteractiveShell\n",
    "InteractiveShell.ast_node_interactivity = \"all\"\n",
    "\n",
    "# Import packages\n",
    "import pandas as pd\n",
    "import seaborn as sns\n",
    "import matplotlib.pyplot as plt"
   ]
  },
  {
   "cell_type": "markdown",
   "metadata": {},
   "source": [
    "### Importing Dataset\n",
    "\n",
    "The report focuses on the fifty states of the United States of America, looking at each states' annual income and rent estimates in relation to the arrest rates and percentage of the total population that is described as urban. Two datasets were combined for this analysis into a dataset by the name of *USStates*. This dataset contains the name of the state, a variable column containing labels of median yearly income and median monthly and annual rent, median disposable income, as well as Murder, Assault, and Rape arrests per 100,000 residents of each of the fifty states. This dataset also contains the percentage of the population that is urban, and a categorical variable called UrbPopQuartile, describing if the urban population is above or below 50%."
   ]
  },
  {
   "cell_type": "code",
   "execution_count": 2,
   "metadata": {},
   "outputs": [
    {
     "data": {
      "text/html": [
       "<div>\n",
       "<style scoped>\n",
       "    .dataframe tbody tr th:only-of-type {\n",
       "        vertical-align: middle;\n",
       "    }\n",
       "\n",
       "    .dataframe tbody tr th {\n",
       "        vertical-align: top;\n",
       "    }\n",
       "\n",
       "    .dataframe thead th {\n",
       "        text-align: right;\n",
       "    }\n",
       "</style>\n",
       "<table border=\"1\" class=\"dataframe\">\n",
       "  <thead>\n",
       "    <tr style=\"text-align: right;\">\n",
       "      <th></th>\n",
       "      <th>MonthlyRent</th>\n",
       "      <th>AnnualRent</th>\n",
       "      <th>AnnualIncome</th>\n",
       "      <th>DisposableIncome</th>\n",
       "      <th>UrbanPop</th>\n",
       "      <th>UrbPopQuartile</th>\n",
       "      <th>ArrestType</th>\n",
       "      <th>ArrestNumber</th>\n",
       "      <th>DisposableIncome_c</th>\n",
       "      <th>y</th>\n",
       "      <th>prob</th>\n",
       "      <th>predicted</th>\n",
       "      <th>logit</th>\n",
       "    </tr>\n",
       "    <tr>\n",
       "      <th>State</th>\n",
       "      <th></th>\n",
       "      <th></th>\n",
       "      <th></th>\n",
       "      <th></th>\n",
       "      <th></th>\n",
       "      <th></th>\n",
       "      <th></th>\n",
       "      <th></th>\n",
       "      <th></th>\n",
       "      <th></th>\n",
       "      <th></th>\n",
       "      <th></th>\n",
       "      <th></th>\n",
       "    </tr>\n",
       "  </thead>\n",
       "  <tbody>\n",
       "    <tr>\n",
       "      <th>Alabama</th>\n",
       "      <td>747</td>\n",
       "      <td>8964</td>\n",
       "      <td>24476</td>\n",
       "      <td>15512</td>\n",
       "      <td>58</td>\n",
       "      <td>greater than 50%</td>\n",
       "      <td>Murder</td>\n",
       "      <td>13.2</td>\n",
       "      <td>-2214.68</td>\n",
       "      <td>0</td>\n",
       "      <td>0.32636</td>\n",
       "      <td>50% or less</td>\n",
       "      <td>-0.724695</td>\n",
       "    </tr>\n",
       "    <tr>\n",
       "      <th>Alabama</th>\n",
       "      <td>747</td>\n",
       "      <td>8964</td>\n",
       "      <td>24476</td>\n",
       "      <td>15512</td>\n",
       "      <td>58</td>\n",
       "      <td>greater than 50%</td>\n",
       "      <td>Assault</td>\n",
       "      <td>236.0</td>\n",
       "      <td>-2214.68</td>\n",
       "      <td>0</td>\n",
       "      <td>0.32636</td>\n",
       "      <td>50% or less</td>\n",
       "      <td>-0.724695</td>\n",
       "    </tr>\n",
       "    <tr>\n",
       "      <th>Alabama</th>\n",
       "      <td>747</td>\n",
       "      <td>8964</td>\n",
       "      <td>24476</td>\n",
       "      <td>15512</td>\n",
       "      <td>58</td>\n",
       "      <td>greater than 50%</td>\n",
       "      <td>Rape</td>\n",
       "      <td>21.2</td>\n",
       "      <td>-2214.68</td>\n",
       "      <td>0</td>\n",
       "      <td>0.32636</td>\n",
       "      <td>50% or less</td>\n",
       "      <td>-0.724695</td>\n",
       "    </tr>\n",
       "    <tr>\n",
       "      <th>Alaska</th>\n",
       "      <td>1200</td>\n",
       "      <td>14400</td>\n",
       "      <td>32940</td>\n",
       "      <td>18540</td>\n",
       "      <td>48</td>\n",
       "      <td>50% or less</td>\n",
       "      <td>Murder</td>\n",
       "      <td>10.0</td>\n",
       "      <td>813.32</td>\n",
       "      <td>1</td>\n",
       "      <td>0.03925</td>\n",
       "      <td>greater than 50%</td>\n",
       "      <td>-3.197757</td>\n",
       "    </tr>\n",
       "    <tr>\n",
       "      <th>Alaska</th>\n",
       "      <td>1200</td>\n",
       "      <td>14400</td>\n",
       "      <td>32940</td>\n",
       "      <td>18540</td>\n",
       "      <td>48</td>\n",
       "      <td>50% or less</td>\n",
       "      <td>Assault</td>\n",
       "      <td>263.0</td>\n",
       "      <td>813.32</td>\n",
       "      <td>1</td>\n",
       "      <td>0.03925</td>\n",
       "      <td>greater than 50%</td>\n",
       "      <td>-3.197757</td>\n",
       "    </tr>\n",
       "  </tbody>\n",
       "</table>\n",
       "</div>"
      ],
      "text/plain": [
       "         MonthlyRent  AnnualRent  AnnualIncome  DisposableIncome  UrbanPop  \\\n",
       "State                                                                        \n",
       "Alabama          747        8964         24476             15512        58   \n",
       "Alabama          747        8964         24476             15512        58   \n",
       "Alabama          747        8964         24476             15512        58   \n",
       "Alaska          1200       14400         32940             18540        48   \n",
       "Alaska          1200       14400         32940             18540        48   \n",
       "\n",
       "           UrbPopQuartile ArrestType  ArrestNumber  DisposableIncome_c  y  \\\n",
       "State                                                                       \n",
       "Alabama  greater than 50%     Murder          13.2            -2214.68  0   \n",
       "Alabama  greater than 50%    Assault         236.0            -2214.68  0   \n",
       "Alabama  greater than 50%       Rape          21.2            -2214.68  0   \n",
       "Alaska        50% or less     Murder          10.0              813.32  1   \n",
       "Alaska        50% or less    Assault         263.0              813.32  1   \n",
       "\n",
       "            prob         predicted     logit  \n",
       "State                                         \n",
       "Alabama  0.32636       50% or less -0.724695  \n",
       "Alabama  0.32636       50% or less -0.724695  \n",
       "Alabama  0.32636       50% or less -0.724695  \n",
       "Alaska   0.03925  greater than 50% -3.197757  \n",
       "Alaska   0.03925  greater than 50% -3.197757  "
      ]
     },
     "execution_count": 2,
     "metadata": {},
     "output_type": "execute_result"
    }
   ],
   "source": [
    "# Import dataset\n",
    "USStates = pd.read_csv(\"USStates.csv\", index_col=0)\n",
    "USStates.head() "
   ]
  },
  {
   "cell_type": "markdown",
   "metadata": {},
   "source": [
    "### Data Description\n"
   ]
  },
  {
   "cell_type": "markdown",
   "metadata": {},
   "source": [
    "There are eight variables: monthly rent, annual rent, annual income, disposable income, Percentage of the population that is urban (UrbanPop), and the cetagorical variable of UrbPopQuartile, arrest type, and arrest number. The remaining variables displayed in this dataset were created for the analyses from Project 2 and do not pertain to this project. In total, this dataset contains fifty observations. "
   ]
  },
  {
   "cell_type": "markdown",
   "metadata": {},
   "source": [
    "### EDA"
   ]
  },
  {
   "cell_type": "markdown",
   "metadata": {},
   "source": [
    "We will now look as descriptive statistics and visualizations that provide more insight into the patterns of this data. "
   ]
  },
  {
   "cell_type": "code",
   "execution_count": 3,
   "metadata": {},
   "outputs": [
    {
     "data": {
      "text/html": [
       "<div>\n",
       "<style scoped>\n",
       "    .dataframe tbody tr th:only-of-type {\n",
       "        vertical-align: middle;\n",
       "    }\n",
       "\n",
       "    .dataframe tbody tr th {\n",
       "        vertical-align: top;\n",
       "    }\n",
       "\n",
       "    .dataframe thead th {\n",
       "        text-align: right;\n",
       "    }\n",
       "</style>\n",
       "<table border=\"1\" class=\"dataframe\">\n",
       "  <thead>\n",
       "    <tr style=\"text-align: right;\">\n",
       "      <th></th>\n",
       "      <th>MonthlyRent</th>\n",
       "      <th>AnnualRent</th>\n",
       "      <th>AnnualIncome</th>\n",
       "      <th>DisposableIncome</th>\n",
       "      <th>UrbanPop</th>\n",
       "      <th>ArrestNumber</th>\n",
       "      <th>DisposableIncome_c</th>\n",
       "      <th>y</th>\n",
       "      <th>prob</th>\n",
       "      <th>logit</th>\n",
       "    </tr>\n",
       "  </thead>\n",
       "  <tbody>\n",
       "    <tr>\n",
       "      <th>count</th>\n",
       "      <td>150.000000</td>\n",
       "      <td>150.000000</td>\n",
       "      <td>150.00000</td>\n",
       "      <td>150.000000</td>\n",
       "      <td>150.000000</td>\n",
       "      <td>150.000000</td>\n",
       "      <td>1.500000e+02</td>\n",
       "      <td>150.000000</td>\n",
       "      <td>150.000000</td>\n",
       "      <td>150.000000</td>\n",
       "    </tr>\n",
       "    <tr>\n",
       "      <th>mean</th>\n",
       "      <td>931.780000</td>\n",
       "      <td>11181.360000</td>\n",
       "      <td>28908.04000</td>\n",
       "      <td>17726.680000</td>\n",
       "      <td>65.540000</td>\n",
       "      <td>66.593333</td>\n",
       "      <td>-4.850638e-14</td>\n",
       "      <td>0.180000</td>\n",
       "      <td>0.180000</td>\n",
       "      <td>-1.787737</td>\n",
       "    </tr>\n",
       "    <tr>\n",
       "      <th>std</th>\n",
       "      <td>192.810192</td>\n",
       "      <td>2313.722302</td>\n",
       "      <td>3380.64824</td>\n",
       "      <td>2406.891368</td>\n",
       "      <td>14.377289</td>\n",
       "      <td>88.380736</td>\n",
       "      <td>2.406891e+03</td>\n",
       "      <td>0.385475</td>\n",
       "      <td>0.108023</td>\n",
       "      <td>0.993566</td>\n",
       "    </tr>\n",
       "    <tr>\n",
       "      <th>min</th>\n",
       "      <td>681.000000</td>\n",
       "      <td>8172.000000</td>\n",
       "      <td>22766.00000</td>\n",
       "      <td>13028.000000</td>\n",
       "      <td>32.000000</td>\n",
       "      <td>0.800000</td>\n",
       "      <td>-4.698680e+03</td>\n",
       "      <td>0.000000</td>\n",
       "      <td>0.010677</td>\n",
       "      <td>-4.528969</td>\n",
       "    </tr>\n",
       "    <tr>\n",
       "      <th>25%</th>\n",
       "      <td>782.000000</td>\n",
       "      <td>9384.000000</td>\n",
       "      <td>26249.00000</td>\n",
       "      <td>15794.000000</td>\n",
       "      <td>54.000000</td>\n",
       "      <td>9.550000</td>\n",
       "      <td>-1.932680e+03</td>\n",
       "      <td>0.000000</td>\n",
       "      <td>0.072035</td>\n",
       "      <td>-2.555846</td>\n",
       "    </tr>\n",
       "    <tr>\n",
       "      <th>50%</th>\n",
       "      <td>864.500000</td>\n",
       "      <td>10374.000000</td>\n",
       "      <td>28872.00000</td>\n",
       "      <td>17414.000000</td>\n",
       "      <td>66.000000</td>\n",
       "      <td>20.100000</td>\n",
       "      <td>-3.126800e+02</td>\n",
       "      <td>0.000000</td>\n",
       "      <td>0.181334</td>\n",
       "      <td>-1.509014</td>\n",
       "    </tr>\n",
       "    <tr>\n",
       "      <th>75%</th>\n",
       "      <td>1076.000000</td>\n",
       "      <td>12912.000000</td>\n",
       "      <td>31560.00000</td>\n",
       "      <td>19514.000000</td>\n",
       "      <td>78.000000</td>\n",
       "      <td>108.250000</td>\n",
       "      <td>1.787320e+03</td>\n",
       "      <td>0.000000</td>\n",
       "      <td>0.263438</td>\n",
       "      <td>-1.028174</td>\n",
       "    </tr>\n",
       "    <tr>\n",
       "      <th>max</th>\n",
       "      <td>1507.000000</td>\n",
       "      <td>18084.000000</td>\n",
       "      <td>37147.00000</td>\n",
       "      <td>23036.000000</td>\n",
       "      <td>91.000000</td>\n",
       "      <td>337.000000</td>\n",
       "      <td>5.309320e+03</td>\n",
       "      <td>1.000000</td>\n",
       "      <td>0.403693</td>\n",
       "      <td>-0.390099</td>\n",
       "    </tr>\n",
       "  </tbody>\n",
       "</table>\n",
       "</div>"
      ],
      "text/plain": [
       "       MonthlyRent    AnnualRent  AnnualIncome  DisposableIncome    UrbanPop  \\\n",
       "count   150.000000    150.000000     150.00000        150.000000  150.000000   \n",
       "mean    931.780000  11181.360000   28908.04000      17726.680000   65.540000   \n",
       "std     192.810192   2313.722302    3380.64824       2406.891368   14.377289   \n",
       "min     681.000000   8172.000000   22766.00000      13028.000000   32.000000   \n",
       "25%     782.000000   9384.000000   26249.00000      15794.000000   54.000000   \n",
       "50%     864.500000  10374.000000   28872.00000      17414.000000   66.000000   \n",
       "75%    1076.000000  12912.000000   31560.00000      19514.000000   78.000000   \n",
       "max    1507.000000  18084.000000   37147.00000      23036.000000   91.000000   \n",
       "\n",
       "       ArrestNumber  DisposableIncome_c           y        prob       logit  \n",
       "count    150.000000        1.500000e+02  150.000000  150.000000  150.000000  \n",
       "mean      66.593333       -4.850638e-14    0.180000    0.180000   -1.787737  \n",
       "std       88.380736        2.406891e+03    0.385475    0.108023    0.993566  \n",
       "min        0.800000       -4.698680e+03    0.000000    0.010677   -4.528969  \n",
       "25%        9.550000       -1.932680e+03    0.000000    0.072035   -2.555846  \n",
       "50%       20.100000       -3.126800e+02    0.000000    0.181334   -1.509014  \n",
       "75%      108.250000        1.787320e+03    0.000000    0.263438   -1.028174  \n",
       "max      337.000000        5.309320e+03    1.000000    0.403693   -0.390099  "
      ]
     },
     "execution_count": 3,
     "metadata": {},
     "output_type": "execute_result"
    }
   ],
   "source": [
    "#descriptive stats\n",
    "USStates.describe()"
   ]
  },
  {
   "cell_type": "markdown",
   "metadata": {},
   "source": [
    "Looking at the table from above, we can see that the mean annual rent is 11,181.36 dollars compared to the mean annual income of 28,908.04 dollars. Additionally, the state with the lowest urban population has an urban percentage of 32% compared to the state with the highest ubran population of 91%."
   ]
  },
  {
   "cell_type": "markdown",
   "metadata": {},
   "source": [
    "### Visualizations"
   ]
  },
  {
   "cell_type": "code",
   "execution_count": 4,
   "metadata": {},
   "outputs": [
    {
     "data": {
      "text/plain": [
       "<matplotlib.axes._subplots.AxesSubplot at 0x7f4bbbe77320>"
      ]
     },
     "execution_count": 4,
     "metadata": {},
     "output_type": "execute_result"
    },
    {
     "data": {
      "image/png": "[encoded data removed]",
      "text/plain": [
       "<Figure size 432x288 with 1 Axes>"
      ]
     },
     "metadata": {
      "needs_background": "light"
     },
     "output_type": "display_data"
    }
   ],
   "source": [
    "# Create a barplot by displaying counts\n",
    "USStates['UrbPopQuartile'].value_counts().plot(kind = \"bar\")"
   ]
  },
  {
   "cell_type": "markdown",
   "metadata": {},
   "source": [
    "Looking at the barplot above, it can be seen that that majority of the states have an urban population that is greater than 50%. The amount of states that have an urban population of 50% or below is about 1/3 of that of the \"greater than 50%\" states. "
   ]
  },
  {
   "cell_type": "code",
   "execution_count": 5,
   "metadata": {},
   "outputs": [
    {
     "data": {
      "text/plain": [
       "<matplotlib.axes._subplots.AxesSubplot at 0x7f4bb9da7390>"
      ]
     },
     "execution_count": 5,
     "metadata": {},
     "output_type": "execute_result"
    },
    {
     "data": {
      "image/png": "[encoded data removed]",
      "text/plain": [
       "<Figure size 432x288 with 1 Axes>"
      ]
     },
     "metadata": {
      "needs_background": "light"
     },
     "output_type": "display_data"
    }
   ],
   "source": [
    "#using a strip plot (categorical scatterplot)\n",
    "sns.stripplot(x ='UrbPopQuartile', y ='AnnualIncome', data = USStates,\n",
    "              jitter = True, dodge = True)"
   ]
  },
  {
   "cell_type": "markdown",
   "metadata": {},
   "source": [
    "The strip plot above shows how states with an urban population greater than 50% tend to have higher annual incomes. The minimum annual income and maximum annual income are greater for the \"greater than 50%\" states than for the states with an urban population of \"50% or less\"."
   ]
  }
 ],
 "metadata": {
  "kernelspec": {
   "display_name": "Python 3",
   "language": "python",
   "name": "python3"
  },
  "language_info": {
   "codemirror_mode": {
    "name": "ipython",
    "version": 3
   },
   "file_extension": ".py",
   "mimetype": "text/x-python",
   "name": "python",
   "nbconvert_exporter": "python",
   "pygments_lexer": "ipython3",
   "version": "3.6.9"
  }
 },
 "nbformat": 4,
 "nbformat_minor": 4
}
